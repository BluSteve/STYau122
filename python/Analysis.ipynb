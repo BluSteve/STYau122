{
 "cells": [
  {
   "cell_type": "code",
   "execution_count": 3,
   "outputs": [],
   "source": [
    "import pandas as pd"
   ],
   "metadata": {
    "collapsed": false,
    "pycharm": {
     "name": "#%%\n"
    }
   }
  },
  {
   "cell_type": "code",
   "execution_count": 19,
   "outputs": [],
   "source": [
    "import json\n",
    "\n",
    "with open('../outputs/0000-20GXCGEAYD-DXTK2BY7E7.json') as data_file:\n",
    "    data = json.load(data_file)"
   ],
   "metadata": {
    "collapsed": false,
    "pycharm": {
     "name": "#%%\n"
    }
   }
  },
  {
   "cell_type": "code",
   "execution_count": 40,
   "outputs": [
    {
     "data": {
      "text/plain": "{'hash': 'DXTK2BY7E7',\n 'nextRunInfo': {'atomTypes': [1, 6, 7],\n  'neededParams': [[0, 1, 3, 5, 7],\n   [0, 1, 2, 3, 4, 5, 6, 7],\n   [0, 1, 2, 3, 4, 5, 6, 7]],\n  'params': [[2.5510260164490606,\n    -6.989042778292852,\n    0.0,\n    -11.906275858250169,\n    0.0,\n    1.3320086674438079,\n    0.0,\n    -11.905550320692871,\n    12.848,\n    0.0,\n    0.0,\n    0.0,\n    0.0],\n   [2.5464394910558523,\n    -18.984963247747714,\n    -7.934265271412827,\n    -52.280629781679046,\n    -39.2053225840332,\n    1.7886735622957142,\n    1.7868887988681545,\n    -120.55009731769903,\n    12.23,\n    11.47,\n    2.43,\n    11.08,\n    9.84],\n   [2.861342,\n    -20.495758,\n    -20.495758,\n    -71.932122,\n    -57.172319,\n    2.255614,\n    2.255614,\n    -202.581201,\n    13.59,\n    12.66,\n    3.14,\n    12.98,\n    11.59]]},\n 'results': [{'updatedRm': {'index': 0,\n    'name': 'H10C6',\n    'restricted': True,\n    'charge': 0,\n    'mult': 1,\n    'datum': [-1.1, 0.0, 0.0],\n    'mats': [1, 6],\n    'mnps': [[0, 1, 3, 5, 7], [0, 1, 2, 3, 4, 5, 6, 7]],\n    'atoms': [{'Z': 6,\n      'coords': [1.3118589809126173,\n       -0.0942989061929482,\n       -0.6666684134770575]},\n     {'Z': 6,\n      'coords': [1.312170523831447, 0.0938190307610082, 0.666045663666238]},\n     {'Z': 6,\n      'coords': [0.063528283934742, 0.22619780656495903, 1.4932257639980315]},\n     {'Z': 6,\n      'coords': [0.062825210479804,\n       -0.22627868319812885,\n       -1.4933210580347458]},\n     {'Z': 6,\n      'coords': [-1.2254473019955232,\n       -0.1750872161631556,\n       0.7497585898514603]},\n     {'Z': 6,\n      'coords': [-1.2257080604107466,\n       0.17541700772067967,\n       -0.7493095167034445]},\n     {'Z': 1,\n      'coords': [2.2492921232133694, -0.174738139840083, -1.2218976827377457]},\n     {'Z': 1,\n      'coords': [2.2498637429685724, 0.17395901213400855, 1.2208790758468142]},\n     {'Z': 1,\n      'coords': [-0.018596810655490466,\n       1.2815674080424189,\n       1.8454120070062918]},\n     {'Z': 1,\n      'coords': [-0.019784759198404004,\n       -1.2816217718933391,\n       -1.8454731993459386]},\n     {'Z': 1,\n      'coords': [0.16186908129732822, -0.3962454885089404, 2.41223866742868]},\n     {'Z': 1,\n      'coords': [0.160975934657332, 0.3961338921433221, -2.4123750281786287]},\n     {'Z': 1,\n      'coords': [-1.3912617114614259,\n       -1.2703096235970217,\n       0.8704511454017242]},\n     {'Z': 1,\n      'coords': [-1.3912242764839422,\n       1.2706915612283236,\n       -0.8699326686881195]},\n     {'Z': 1,\n      'coords': [-2.0960956141882705, 0.3188176760701264, 1.237193462028967]},\n     {'Z': 1,\n      'coords': [-2.0967196244966213,\n       -0.3182108422896393,\n       -1.2363764495457024]}],\n    'expGeom': [{'Z': 6, 'coords': [1.3051, -0.1187, -0.656]},\n     {'Z': 6, 'coords': [1.3051, 0.1187, 0.656]},\n     {'Z': 6, 'coords': [0.048, 0.2517, 1.4817]},\n     {'Z': 6, 'coords': [0.048, -0.2517, -1.4817]},\n     {'Z': 6, 'coords': [-1.1919, -0.2517, 0.7251]},\n     {'Z': 6, 'coords': [-1.1919, 0.2517, -0.7251]},\n     {'Z': 1, 'coords': [2.2504, -0.2241, -1.1844]},\n     {'Z': 1, 'coords': [2.2504, 0.2241, 1.1844]},\n     {'Z': 1, 'coords': [-0.0878, 1.3044, 1.7701]},\n     {'Z': 1, 'coords': [-0.0878, -1.3044, -1.7701]},\n     {'Z': 1, 'coords': [0.1662, -0.2971, 2.4243]},\n     {'Z': 1, 'coords': [0.1662, 0.2971, -2.4243]},\n     {'Z': 1, 'coords': [-1.1906, -1.3492, 0.7227]},\n     {'Z': 1, 'coords': [-1.1906, 1.3492, -0.7227]},\n     {'Z': 1, 'coords': [-2.1047, 0.06140000000000001, 1.2435]},\n     {'Z': 1, 'coords': [-2.1047, -0.06140000000000001, -1.2435]}]},\n   'time': 6568,\n   'hf': -9.990650771889781,\n   'dipole': 0.0016740671091121401,\n   'ie': 9.75166330276296,\n   'geomGradMag': 833.7915193279039,\n   'totalError': 113.10887773515793,\n   'hfpg': [[-691.9080426994645,\n     131.9964916364745,\n     0.0,\n     226.82430753925402,\n     0.0,\n     614.9490233635457,\n     0.0,\n     -230.611350690681],\n    [-1876.6596554607518,\n     110.68527485222477,\n     202.53878454313784,\n     168.35455001967276,\n     388.8997347893891,\n     1222.072208966222,\n     2107.424398230058,\n     -138.3668104144086]],\n   'geompg': [[-5670.754339917039,\n     627.9177273427194,\n     0.0,\n     13.928370208304841,\n     0.0,\n     -2826.792748464868,\n     0.0,\n     0.0],\n    [-3262.3358413275128,\n     235.50892024104542,\n     238.46908788982546,\n     -88.57048555910296,\n     74.64228815479146,\n     -1864.9288324468216,\n     -3566.4600693507964,\n     0.0]],\n   'totalpg': [[11839.65931387764,\n     -2295.7612778715174,\n     0.0,\n     -4032.093300832609,\n     0.0,\n     -11165.575688895578,\n     0.0,\n     4100.569966049296],\n    [33102.88064893865,\n     -1948.8844452420701,\n     -3581.917518967902,\n     -3000.80025349987,\n     -6909.044316115051,\n     -21882.42071667632,\n     -37764.16975331179,\n     2460.341979629578]],\n   'hessian': [[941022.4337261752,\n     -182658.87350480625,\n     0.0,\n     -313883.1342039339,\n     0.0,\n     -850976.3742767973,\n     0.0,\n     319123.705585298,\n     2596951.891464414,\n     -153168.0680864156,\n     -280276.4358921195,\n     -232971.74095660012,\n     -538165.7238194748,\n     -1691123.2280835975,\n     -2916287.8634087974,\n     191474.22334754083],\n    [-182658.87350480625,\n     34861.25980998622,\n     0.0,\n     59865.499047191406,\n     0.0,\n     162900.29987430898,\n     0.0,\n     -60880.31121180393,\n     0.0,\n     29225.23082133921,\n     53469.11076685501,\n     44425.32859684434,\n     102702.2304606362,\n     323016.78860676475,\n     557133.4682463203,\n     -36528.186728901346],\n    [0.0,\n     0.0,\n     0.0,\n     0.0,\n     0.0,\n     0.0,\n     0.0,\n     0.0,\n     0.0,\n     0.0,\n     0.0,\n     0.0,\n     0.0,\n     0.0,\n     0.0,\n     0.0],\n    [-313883.1342039339,\n     59865.499047191406,\n     0.0,\n     103207.15985926654,\n     0.0,\n     278669.84100910486,\n     0.0,\n     -104617.03092005337,\n     0.0,\n     0.0,\n     0.0,\n     76340.43488451425,\n     176150.3104626172,\n     554456.7623292096,\n     956198.5004984308,\n     -62770.218551122525],\n    [0.0,\n     0.0,\n     0.0,\n     0.0,\n     0.0,\n     0.0,\n     0.0,\n     0.0,\n     0.0,\n     0.0,\n     0.0,\n     0.0,\n     0.0,\n     0.0,\n     0.0,\n     0.0],\n    [-850976.3742767973,\n     162900.29987430898,\n     0.0,\n     278669.84100910486,\n     0.0,\n     741127.0188094932,\n     0.0,\n     -283628.69161355775,\n     0.0,\n     0.0,\n     0.0,\n     0.0,\n     0.0,\n     1508275.8945573005,\n     2594061.6927982774,\n     -170177.21496813465],\n    [0.0,\n     0.0,\n     0.0,\n     0.0,\n     0.0,\n     0.0,\n     0.0,\n     0.0,\n     0.0,\n     0.0,\n     0.0,\n     0.0,\n     0.0,\n     0.0,\n     0.0,\n     0.0],\n    [319123.705585298,\n     -60880.31121180393,\n     0.0,\n     -104617.03092005337,\n     0.0,\n     -283628.69161355775,\n     0.0,\n     106363.15359079163,\n     0.0,\n     0.0,\n     0.0,\n     0.0,\n     0.0,\n     0.0,\n     0.0,\n     63817.89215538447],\n    [2596951.891464414,\n     0.0,\n     0.0,\n     0.0,\n     0.0,\n     0.0,\n     0.0,\n     0.0,\n     6994361.83909711,\n     -415437.1825643466,\n     -760192.7367795724,\n     -631888.388279549,\n     -1459664.8952374381,\n     -4586827.25467952,\n     -7909836.747785448,\n     519334.82530330366],\n    [-153168.0680864156,\n     29225.23082133921,\n     0.0,\n     0.0,\n     0.0,\n     0.0,\n     0.0,\n     0.0,\n     -415437.1825643466,\n     24511.126318884635,\n     44840.13731143932,\n     37242.4897068413,\n     86112.7530788508,\n     271631.8512102589,\n     467160.8620265033,\n     -30630.069209109934],\n    [-280276.4358921195,\n     53469.11076685501,\n     0.0,\n     0.0,\n     0.0,\n     0.0,\n     0.0,\n     0.0,\n     -760192.7367795724,\n     44840.13731143932,\n     82056.68259506638,\n     68179.70666816109,\n     157556.73827698047,\n     495226.26628458966,\n     856240.2483948972,\n     -56049.006657303835],\n    [-232971.74095660012,\n     44425.32859684434,\n     0.0,\n     76340.43488451425,\n     0.0,\n     0.0,\n     0.0,\n     0.0,\n     -631888.388279549,\n     37242.4897068413,\n     68179.70666816109,\n     56772.370171529474,\n     130894.69250189723,\n     410940.8207659726,\n     709206.8958445452,\n     -46589.54474962229],\n    [-538165.7238194748,\n     102702.2304606362,\n     0.0,\n     176150.3104626172,\n     0.0,\n     0.0,\n     0.0,\n     0.0,\n     -1459664.8952374381,\n     86112.7530788508,\n     157556.73827698047,\n     130894.69250189723,\n     302813.4328451415,\n     951011.6622550413,\n     1639380.9880537447,\n     -107622.04222373839],\n    [-1691123.2280835975,\n     323016.78860676475,\n     0.0,\n     554456.7623292096,\n     0.0,\n     1508275.8945573005,\n     0.0,\n     0.0,\n     -4586827.25467952,\n     271631.8512102589,\n     495226.26628458966,\n     410940.8207659726,\n     951011.6622550413,\n     2983585.6763020274,\n     5155470.16490018,\n     -338188.35849615425],\n    [-2916287.8634087974,\n     557133.4682463203,\n     0.0,\n     956198.5004984308,\n     0.0,\n     2594061.6927982774,\n     0.0,\n     0.0,\n     -7909836.747785448,\n     467160.8620265033,\n     856240.2483948972,\n     709206.8958445452,\n     1639380.9880537447,\n     5155470.16490018,\n     8888820.028223563,\n     -583195.8862336251],\n    [191474.22334754083,\n     -36528.186728901346,\n     0.0,\n     -62770.218551122525,\n     0.0,\n     -170177.21496813465,\n     0.0,\n     63817.89215538447,\n     519334.82530330366,\n     -30630.069209109934,\n     -56049.006657303835,\n     -46589.54474962229,\n     -107622.04222373839,\n     -338188.35849615425,\n     -583195.8862336251,\n     38290.73529232119]]},\n  {'updatedRm': {'index': 1,\n    'name': 'H9C4',\n    'restricted': False,\n    'charge': 0,\n    'mult': 2,\n    'datum': [4.5, 0.0, 0.0],\n    'mats': [1, 6],\n    'mnps': [[0, 1, 3, 5, 7], [0, 1, 2, 3, 4, 5, 6, 7]],\n    'atoms': [{'Z': 6,\n      'coords': [-0.005127301254676594,\n       -0.2517534351468199,\n       0.22614649394357925]},\n     {'Z': 6,\n      'coords': [-0.005725802098712515,\n       0.8604971620284381,\n       1.2213810316817748]},\n     {'Z': 6,\n      'coords': [-1.287689667836146,\n       -0.2757605224026713,\n       -0.6306629259206342]},\n     {'Z': 6,\n      'coords': [1.2750111010567649,\n       -0.2710444116355247,\n       -0.6343985257153139]},\n     {'Z': 1,\n      'coords': [-0.0025011313785567252,\n       -1.2024223645706,\n       0.8275115535023523]},\n     {'Z': 1,\n      'coords': [0.9145760553094887, 1.2721737761479153, 1.615688471898102]},\n     {'Z': 1,\n      'coords': [-0.9263849698105021, 1.2687134140856102, 1.6184427627227171]},\n     {'Z': 1,\n      'coords': [-1.3928553925693088,\n       0.6403719668947416,\n       -1.2460542876495584]},\n     {'Z': 1,\n      'coords': [-1.2929293544580442,\n       -1.1464500590031381,\n       -1.3177108010139016]},\n     {'Z': 1,\n      'coords': [-2.1909129854529485,\n       -0.35901850475993924,\n       0.007832087123557334]},\n     {'Z': 1,\n      'coords': [1.3750086133997979, 0.6454646288094066, -1.2500906891460684]},\n     {'Z': 1,\n      'coords': [1.281453599720595, -1.1417135961221974, -1.3214620294962773]},\n     {'Z': 1,\n      'coords': [2.180392345996518,\n       -0.35097186582210155,\n       0.001460273160716081]}],\n    'expGeom': [{'Z': 6, 'coords': [0.0, -0.2689, 0.2322]},\n     {'Z': 6, 'coords': [0.0, 0.8665, 1.2081]},\n     {'Z': 6, 'coords': [-1.2721, -0.2689, -0.6332]},\n     {'Z': 6, 'coords': [1.2721, -0.2689, -0.6332]},\n     {'Z': 1, 'coords': [0.0, -1.2114, 0.8091]},\n     {'Z': 1, 'coords': [0.929, 1.2276, 1.6383]},\n     {'Z': 1, 'coords': [-0.929, 1.2276, 1.6383]},\n     {'Z': 1, 'coords': [-1.3203, 0.6348, -1.2501]},\n     {'Z': 1, 'coords': [-1.2939, -1.1363, -1.3013]},\n     {'Z': 1, 'coords': [-2.1741, -0.2996, -0.013200000000000002]},\n     {'Z': 1, 'coords': [1.3203, 0.6348, -1.2501]},\n     {'Z': 1, 'coords': [1.2939, -1.1363, -1.3013]},\n     {'Z': 1, 'coords': [2.1741, -0.2996, -0.013200000000000002]}]},\n   'time': 7911,\n   'hf': 3.1898796524339064,\n   'dipole': 0.05552999836712998,\n   'ie': 9.463482633226844,\n   'geomGradMag': 630.8179116595921,\n   'totalError': 21.215045970964578,\n   'hfpg': [[-609.2394602763562,\n     119.33114552498125,\n     0.0,\n     205.97088225660087,\n     0.0,\n     554.5048440325218,\n     0.0,\n     -207.5501443110639],\n    [-1120.997418859737,\n     74.00081628805566,\n     131.01585474295518,\n     113.52470885572785,\n     257.0330856599412,\n     831.1209154898692,\n     1308.692990549254,\n     -92.24450858269506]],\n   'geompg': [[-5563.448942211835,\n     620.0583391091641,\n     0.0,\n     -5.457231964101084,\n     0.0,\n     -2740.8188998379046,\n     0.0,\n     0.0],\n    [-319.9099512585235,\n     132.98334692990466,\n     74.20817723868822,\n     -22.97272772011638,\n     28.43070433300454,\n     -825.7214585682959,\n     -2827.2456791000877,\n     0.0]],\n   'totalpg': [[1252.4207490480962,\n     -274.34422085606917,\n     0.0,\n     -540.0306546287873,\n     0.0,\n     -1622.3740081359629,\n     0.0,\n     543.8313344044078],\n    [2917.506173151967,\n     -185.67889914577336,\n     -338.70551326042875,\n     -298.8822396431133,\n     -671.7309604832084,\n     -2228.783074180518,\n     -3603.871398345174,\n     241.70281529084792]],\n   'hessian': [[732727.4355270675,\n     -145402.485387649,\n     0.0,\n     -250971.17827726834,\n     0.0,\n     -675652.4637967232,\n     0.0,\n     252895.47580086946,\n     1361789.7562471626,\n     -90168.43475080805,\n     -159640.05726232246,\n     -138327.46470257008,\n     -313189.3967611177,\n     -1012703.4323204499,\n     -1594614.822456606,\n     112397.9892446414],\n    [-145402.485387649,\n     77940.71758894461,\n     0.0,\n     82131.28162424255,\n     0.0,\n     157069.83297832267,\n     0.0,\n     -49534.39294922646,\n     0.0,\n     34148.162023086574,\n     102711.87213788835,\n     54572.252312823366,\n     72335.44899918343,\n     253313.5922431029,\n     359048.5589847958,\n     -22015.28575511702],\n    [0.0,\n     0.0,\n     0.0,\n     0.0,\n     0.0,\n     0.0,\n     0.0,\n     0.0,\n     0.0,\n     0.0,\n     0.0,\n     0.0,\n     0.0,\n     0.0,\n     0.0,\n     0.0],\n    [-250971.17827726834,\n     82131.28162424255,\n     0.0,\n     60117.735719131815,\n     0.0,\n     269640.70911390084,\n     0.0,\n     -85498.57267212246,\n     0.0,\n     0.0,\n     0.0,\n     22035.41228652739,\n     103134.81595289886,\n     361607.99561912427,\n     569331.0337574076,\n     -37999.36563211759],\n    [0.0,\n     0.0,\n     0.0,\n     0.0,\n     0.0,\n     0.0,\n     0.0,\n     0.0,\n     0.0,\n     0.0,\n     0.0,\n     0.0,\n     0.0,\n     0.0,\n     0.0,\n     0.0],\n    [-675652.4637967232,\n     157069.83297832267,\n     0.0,\n     269640.70911390084,\n     0.0,\n     631437.5377792203,\n     0.0,\n     -230175.12080059532,\n     0.0,\n     0.0,\n     0.0,\n     0.0,\n     0.0,\n     965684.7133737756,\n     1467839.4988959555,\n     -102300.053688964],\n    [0.0,\n     0.0,\n     0.0,\n     0.0,\n     0.0,\n     0.0,\n     0.0,\n     0.0,\n     0.0,\n     0.0,\n     0.0,\n     0.0,\n     0.0,\n     0.0,\n     0.0,\n     0.0],\n    [252895.47580086946,\n     -49534.39294922646,\n     0.0,\n     -85498.57267212246,\n     0.0,\n     -230175.12080059532,\n     0.0,\n     86154.12480708073,\n     0.0,\n     0.0,\n     0.0,\n     0.0,\n     0.0,\n     0.0,\n     0.0,\n     38977.618270052975],\n    [1361789.7562471626,\n     0.0,\n     0.0,\n     0.0,\n     0.0,\n     0.0,\n     0.0,\n     0.0,\n     2512583.482161972,\n     -165909.44810502607,\n     -293736.75362080574,\n     -251773.685992589,\n     -573518.725956319,\n     -1860620.6768345146,\n     -2931334.8037521793,\n     206811.71205040984],\n    [-90168.43475080805,\n     34148.162023086574,\n     0.0,\n     0.0,\n     0.0,\n     0.0,\n     0.0,\n     0.0,\n     -165909.44810502607,\n     13700.116195423107,\n     49616.71525052225,\n     44280.122530153676,\n     18806.543379241702,\n     150485.53264023212,\n     196436.4573586863,\n     -13652.337866290054],\n    [-159640.05726232246,\n     102711.87213788835,\n     0.0,\n     0.0,\n     0.0,\n     0.0,\n     0.0,\n     0.0,\n     -293736.75362080574,\n     49616.71525052225,\n     42573.77987016753,\n     13260.246927870867,\n     78342.03656557293,\n     242510.33235941577,\n     411614.46325986617,\n     -24170.986274612005],\n    [-138327.46470257008,\n     54572.252312823366,\n     0.0,\n     22035.41228652739,\n     0.0,\n     0.0,\n     0.0,\n     0.0,\n     -251773.685992589,\n     44280.122530153676,\n     13260.246927870867,\n     36767.06781220673,\n     44620.113740165834,\n     213435.85101021745,\n     316372.6963703084,\n     -20944.06196079035],\n    [-313189.3967611177,\n     72335.44899918343,\n     0.0,\n     103134.81595289886,\n     0.0,\n     0.0,\n     0.0,\n     0.0,\n     -573518.725956319,\n     18806.543379241702,\n     78342.03656557293,\n     44620.113740165834,\n     145870.9624432686,\n     424503.3107463314,\n     670006.9589078339,\n     -47419.781352289196],\n    [-1012703.4323204499,\n     253313.5922431029,\n     0.0,\n     361607.99561912427,\n     0.0,\n     965684.7133737756,\n     0.0,\n     0.0,\n     -1860620.6768345146,\n     150485.53264023212,\n     242510.33235941577,\n     213435.85101021745,\n     424503.3107463314,\n     1425486.5901966696,\n     2235812.932594854,\n     -153332.79719897066],\n    [-1594614.822456606,\n     359048.5589847958,\n     0.0,\n     569331.0337574076,\n     0.0,\n     1467839.4988959555,\n     0.0,\n     0.0,\n     -2931334.8037521793,\n     196436.4573586863,\n     411614.46325986617,\n     316372.6963703084,\n     670006.9589078339,\n     2235812.932594854,\n     3466568.222988826,\n     -241439.48359778733],\n    [112397.9892446414,\n     -22015.28575511702,\n     0.0,\n     -37999.36563211759,\n     0.0,\n     -102300.053688964,\n     0.0,\n     38977.618270052975,\n     206811.71205040984,\n     -13652.337866290054,\n     -24170.986274612005,\n     -20944.06196079035,\n     -47419.781352289196,\n     -153332.79719897066,\n     -241439.48359778733,\n     18391.995266711092]]}],\n 'timeTaken': 7947,\n 'ttError': 134.3239237061225}"
     },
     "execution_count": 40,
     "metadata": {},
     "output_type": "execute_result"
    }
   ],
   "source": [
    "data"
   ],
   "metadata": {
    "collapsed": false,
    "pycharm": {
     "name": "#%%\n"
    }
   }
  },
  {
   "cell_type": "code",
   "execution_count": 35,
   "outputs": [],
   "source": [
    "dict1 = [{\n",
    "    'index': x['updatedRm']['index'],\n",
    "    'name': x['updatedRm']['name'],\n",
    "    'error': x['totalError']\n",
    "} for x in data['results']]"
   ],
   "metadata": {
    "collapsed": false,
    "pycharm": {
     "name": "#%%\n"
    }
   }
  },
  {
   "cell_type": "code",
   "execution_count": 36,
   "outputs": [],
   "source": [
    "df = pd.DataFrame(dict1);"
   ],
   "metadata": {
    "collapsed": false,
    "pycharm": {
     "name": "#%%\n"
    }
   }
  },
  {
   "cell_type": "code",
   "execution_count": 37,
   "outputs": [
    {
     "data": {
      "text/plain": "   index   name       error\n0      0  H10C6  113.108878\n1      1   H9C4   21.215046",
      "text/html": "<div>\n<style scoped>\n    .dataframe tbody tr th:only-of-type {\n        vertical-align: middle;\n    }\n\n    .dataframe tbody tr th {\n        vertical-align: top;\n    }\n\n    .dataframe thead th {\n        text-align: right;\n    }\n</style>\n<table border=\"1\" class=\"dataframe\">\n  <thead>\n    <tr style=\"text-align: right;\">\n      <th></th>\n      <th>index</th>\n      <th>name</th>\n      <th>error</th>\n    </tr>\n  </thead>\n  <tbody>\n    <tr>\n      <th>0</th>\n      <td>0</td>\n      <td>H10C6</td>\n      <td>113.108878</td>\n    </tr>\n    <tr>\n      <th>1</th>\n      <td>1</td>\n      <td>H9C4</td>\n      <td>21.215046</td>\n    </tr>\n  </tbody>\n</table>\n</div>"
     },
     "execution_count": 37,
     "metadata": {},
     "output_type": "execute_result"
    }
   ],
   "source": [
    "df"
   ],
   "metadata": {
    "collapsed": false,
    "pycharm": {
     "name": "#%%\n"
    }
   }
  },
  {
   "cell_type": "code",
   "execution_count": 38,
   "outputs": [
    {
     "name": "stdout",
     "output_type": "stream",
     "text": [
      "Collecting matplotlib\n",
      "  Downloading matplotlib-3.5.1-cp39-cp39-win_amd64.whl (7.2 MB)\n",
      "Requirement already satisfied: python-dateutil>=2.7 in c:\\users\\billi\\ideaprojects\\mndoparam\\venv\\lib\\site-packages (from matplotlib) (2.8.2)\n",
      "Requirement already satisfied: numpy>=1.17 in c:\\users\\billi\\ideaprojects\\mndoparam\\venv\\lib\\site-packages (from matplotlib) (1.22.0)\n",
      "Requirement already satisfied: packaging>=20.0 in c:\\users\\billi\\ideaprojects\\mndoparam\\venv\\lib\\site-packages (from matplotlib) (21.3)\n",
      "Collecting pillow>=6.2.0\n",
      "  Downloading Pillow-9.0.0-cp39-cp39-win_amd64.whl (3.2 MB)\n",
      "Collecting kiwisolver>=1.0.1\n",
      "  Downloading kiwisolver-1.3.2-cp39-cp39-win_amd64.whl (52 kB)\n",
      "Collecting fonttools>=4.22.0\n",
      "  Downloading fonttools-4.28.5-py3-none-any.whl (890 kB)\n",
      "Requirement already satisfied: pyparsing>=2.2.1 in c:\\users\\billi\\ideaprojects\\mndoparam\\venv\\lib\\site-packages (from matplotlib) (3.0.6)\n",
      "Collecting cycler>=0.10\n",
      "  Downloading cycler-0.11.0-py3-none-any.whl (6.4 kB)\n",
      "Requirement already satisfied: six>=1.5 in c:\\users\\billi\\ideaprojects\\mndoparam\\venv\\lib\\site-packages (from python-dateutil>=2.7->matplotlib) (1.16.0)\n",
      "Installing collected packages: pillow, kiwisolver, fonttools, cycler, matplotlib\n",
      "Successfully installed cycler-0.11.0 fonttools-4.28.5 kiwisolver-1.3.2 matplotlib-3.5.1 pillow-9.0.0\n"
     ]
    },
    {
     "name": "stderr",
     "output_type": "stream",
     "text": [
      "WARNING: You are using pip version 21.1.2; however, version 21.3.1 is available.\n",
      "You should consider upgrading via the 'C:\\Users\\billi\\IdeaProjects\\MNDOParam\\venv\\Scripts\\python.exe -m pip install --upgrade pip' command.\n"
     ]
    }
   ],
   "source": [],
   "metadata": {
    "collapsed": false,
    "pycharm": {
     "name": "#%%\n"
    }
   }
  },
  {
   "cell_type": "code",
   "execution_count": 39,
   "outputs": [
    {
     "data": {
      "text/plain": "[<matplotlib.lines.Line2D at 0x20821ef0580>]"
     },
     "execution_count": 39,
     "metadata": {},
     "output_type": "execute_result"
    },
    {
     "data": {
      "text/plain": "<Figure size 432x288 with 1 Axes>",
      "image/png": "[encoded data removed]"
     },
     "metadata": {
      "needs_background": "light"
     },
     "output_type": "display_data"
    }
   ],
   "source": [
    "import matplotlib.pyplot as plt\n",
    "\n",
    "plt.plot(df.error)\n"
   ],
   "metadata": {
    "collapsed": false,
    "pycharm": {
     "name": "#%%\n"
    }
   }
  },
  {
   "cell_type": "code",
   "execution_count": null,
   "outputs": [],
   "source": [],
   "metadata": {
    "collapsed": false,
    "pycharm": {
     "name": "#%%\n"
    }
   }
  }
 ],
 "metadata": {
  "kernelspec": {
   "display_name": "Python 3",
   "language": "python",
   "name": "python3"
  },
  "language_info": {
   "codemirror_mode": {
    "name": "ipython",
    "version": 2
   },
   "file_extension": ".py",
   "mimetype": "text/x-python",
   "name": "python",
   "nbconvert_exporter": "python",
   "pygments_lexer": "ipython2",
   "version": "2.7.6"
  }
 },
 "nbformat": 4,
 "nbformat_minor": 0
}