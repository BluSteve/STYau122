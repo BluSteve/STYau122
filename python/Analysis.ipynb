{
 "cells": [
  {
   "cell_type": "code",
   "execution_count": 1,
   "outputs": [],
   "source": [
    "import pandas as pd"
   ],
   "metadata": {
    "collapsed": false,
    "pycharm": {
     "name": "#%%\n"
    }
   }
  },
  {
   "cell_type": "code",
   "execution_count": 7,
   "outputs": [],
   "source": [
    "import json\n",
    "\n",
    "with open('../0299-4DT9KF68TX-CGV5V64N1P.json') as data_file:\n",
    "    data = json.load(data_file)"
   ],
   "metadata": {
    "collapsed": false,
    "pycharm": {
     "name": "#%%\n"
    }
   }
  },
  {
   "cell_type": "code",
   "execution_count": 8,
   "outputs": [],
   "source": [
    "dict1 = [{\n",
    "    'name': str(x['updatedRm']['index']) + '-' + str(x['updatedRm']['name']),\n",
    "    'error': x['totalError'],\n",
    "    'hf': x['hf'],\n",
    "    'refHf': x['updatedRm']['datum'][0],\n",
    "    'ie': x['ie'],\n",
    "    'refIe': x['updatedRm']['datum'][2],\n",
    "    'dipole': x['dipole'],\n",
    "    'refDipole': x['updatedRm']['datum'][1],\n",
    "    'geomError': x['geomGradMag']\n",
    "} for x in data['results']]"
   ],
   "metadata": {
    "collapsed": false,
    "pycharm": {
     "name": "#%%\n"
    }
   }
  },
  {
   "cell_type": "code",
   "execution_count": 9,
   "outputs": [],
   "source": [
    "df = pd.DataFrame(dict1);"
   ],
   "metadata": {
    "collapsed": false,
    "pycharm": {
     "name": "#%%\n"
    }
   }
  },
  {
   "cell_type": "code",
   "execution_count": 10,
   "outputs": [
    {
     "data": {
      "text/plain": "               name        error          hf  refHf         ie  refIe  \\\n0              0-H1  1512.268846  326.812099  365.7  -0.000000    0.0   \n1              1-H1     0.390627   52.725002   52.1  11.885239    0.0   \n2              2-H2   790.151848   -2.327904    0.0  15.801881   15.4   \n3              3-C1  1757.458412  388.677948  430.6  18.695822    0.0   \n4              4-C1     0.555406  170.154744  170.9   9.475822    0.0   \n...             ...          ...         ...    ...        ...    ...   \n1201  1201-H6C7O4F6    98.320663 -450.584322 -460.5  12.531058    0.0   \n1202     1202-C6F10    95.703473 -452.117185 -461.9  12.907537    0.0   \n1203   1203-C5N1F11    50.137750 -471.819198 -478.9  14.131488    0.0   \n1204   1204-C2N5F11   222.327139  -99.310638  -84.4  13.396985    0.0   \n1205     1205-C6F12   696.866809 -564.101765 -590.5  14.532029    0.0   \n\n            dipole  refDipole  geomError  \n0     0.000000e+00        0.0    0.00000  \n1     0.000000e+00        0.0    0.00000  \n2     7.102019e-16        0.0   39.20668  \n3     0.000000e+00        0.0    0.00000  \n4     0.000000e+00        0.0    0.00000  \n...            ...        ...        ...  \n1201  6.212359e+00        0.0    0.00000  \n1202  7.210088e-01        0.0    0.00000  \n1203  6.047175e-02        0.0    0.00000  \n1204  1.291619e-01        0.0    0.00000  \n1205  3.263267e-07        0.0    0.00000  \n\n[1206 rows x 9 columns]",
      "text/html": "<div>\n<style scoped>\n    .dataframe tbody tr th:only-of-type {\n        vertical-align: middle;\n    }\n\n    .dataframe tbody tr th {\n        vertical-align: top;\n    }\n\n    .dataframe thead th {\n        text-align: right;\n    }\n</style>\n<table border=\"1\" class=\"dataframe\">\n  <thead>\n    <tr style=\"text-align: right;\">\n      <th></th>\n      <th>name</th>\n      <th>error</th>\n      <th>hf</th>\n      <th>refHf</th>\n      <th>ie</th>\n      <th>refIe</th>\n      <th>dipole</th>\n      <th>refDipole</th>\n      <th>geomError</th>\n    </tr>\n  </thead>\n  <tbody>\n    <tr>\n      <th>0</th>\n      <td>0-H1</td>\n      <td>1512.268846</td>\n      <td>326.812099</td>\n      <td>365.7</td>\n      <td>-0.000000</td>\n      <td>0.0</td>\n      <td>0.000000e+00</td>\n      <td>0.0</td>\n      <td>0.00000</td>\n    </tr>\n    <tr>\n      <th>1</th>\n      <td>1-H1</td>\n      <td>0.390627</td>\n      <td>52.725002</td>\n      <td>52.1</td>\n      <td>11.885239</td>\n      <td>0.0</td>\n      <td>0.000000e+00</td>\n      <td>0.0</td>\n      <td>0.00000</td>\n    </tr>\n    <tr>\n      <th>2</th>\n      <td>2-H2</td>\n      <td>790.151848</td>\n      <td>-2.327904</td>\n      <td>0.0</td>\n      <td>15.801881</td>\n      <td>15.4</td>\n      <td>7.102019e-16</td>\n      <td>0.0</td>\n      <td>39.20668</td>\n    </tr>\n    <tr>\n      <th>3</th>\n      <td>3-C1</td>\n      <td>1757.458412</td>\n      <td>388.677948</td>\n      <td>430.6</td>\n      <td>18.695822</td>\n      <td>0.0</td>\n      <td>0.000000e+00</td>\n      <td>0.0</td>\n      <td>0.00000</td>\n    </tr>\n    <tr>\n      <th>4</th>\n      <td>4-C1</td>\n      <td>0.555406</td>\n      <td>170.154744</td>\n      <td>170.9</td>\n      <td>9.475822</td>\n      <td>0.0</td>\n      <td>0.000000e+00</td>\n      <td>0.0</td>\n      <td>0.00000</td>\n    </tr>\n    <tr>\n      <th>...</th>\n      <td>...</td>\n      <td>...</td>\n      <td>...</td>\n      <td>...</td>\n      <td>...</td>\n      <td>...</td>\n      <td>...</td>\n      <td>...</td>\n      <td>...</td>\n    </tr>\n    <tr>\n      <th>1201</th>\n      <td>1201-H6C7O4F6</td>\n      <td>98.320663</td>\n      <td>-450.584322</td>\n      <td>-460.5</td>\n      <td>12.531058</td>\n      <td>0.0</td>\n      <td>6.212359e+00</td>\n      <td>0.0</td>\n      <td>0.00000</td>\n    </tr>\n    <tr>\n      <th>1202</th>\n      <td>1202-C6F10</td>\n      <td>95.703473</td>\n      <td>-452.117185</td>\n      <td>-461.9</td>\n      <td>12.907537</td>\n      <td>0.0</td>\n      <td>7.210088e-01</td>\n      <td>0.0</td>\n      <td>0.00000</td>\n    </tr>\n    <tr>\n      <th>1203</th>\n      <td>1203-C5N1F11</td>\n      <td>50.137750</td>\n      <td>-471.819198</td>\n      <td>-478.9</td>\n      <td>14.131488</td>\n      <td>0.0</td>\n      <td>6.047175e-02</td>\n      <td>0.0</td>\n      <td>0.00000</td>\n    </tr>\n    <tr>\n      <th>1204</th>\n      <td>1204-C2N5F11</td>\n      <td>222.327139</td>\n      <td>-99.310638</td>\n      <td>-84.4</td>\n      <td>13.396985</td>\n      <td>0.0</td>\n      <td>1.291619e-01</td>\n      <td>0.0</td>\n      <td>0.00000</td>\n    </tr>\n    <tr>\n      <th>1205</th>\n      <td>1205-C6F12</td>\n      <td>696.866809</td>\n      <td>-564.101765</td>\n      <td>-590.5</td>\n      <td>14.532029</td>\n      <td>0.0</td>\n      <td>3.263267e-07</td>\n      <td>0.0</td>\n      <td>0.00000</td>\n    </tr>\n  </tbody>\n</table>\n<p>1206 rows × 9 columns</p>\n</div>"
     },
     "execution_count": 10,
     "metadata": {},
     "output_type": "execute_result"
    }
   ],
   "source": [
    "df"
   ],
   "metadata": {
    "collapsed": false,
    "pycharm": {
     "name": "#%%\n"
    }
   }
  },
  {
   "cell_type": "code",
   "execution_count": 11,
   "outputs": [
    {
     "data": {
      "text/plain": "               name         error          hf  refHf         ie  refIe  \\\n893    893-H9C4N1O3      0.000179 -140.513364 -140.5  10.144521   0.00   \n903      903-H8C5O4      0.001088 -176.367022 -176.4  11.549435   0.00   \n859    859-H7C7N1O2      0.001300  -70.236053  -70.2   8.630960   0.00   \n971   971-H9C10N1O1      0.002643   24.551411   24.5   9.686293   0.00   \n689    689-H7C7N1O1      0.003309  -24.157523  -24.1   9.670795   0.00   \n...             ...           ...         ...    ...        ...    ...   \n1168    1168-C2N1F3  13419.464877 -118.432299 -118.4  15.010812   0.00   \n1134      1134-O2F1  17787.640020  -55.386945    3.0  12.024399   0.00   \n711          711-O2  18726.634530    0.323142   22.0  10.798429   0.00   \n712          712-O2  19533.008004  -27.817831    0.0  12.011798   0.00   \n874          874-O3  20092.960484   24.617633   34.1  12.637991  12.75   \n\n            dipole  refDipole   geomError            bad  \n893   1.755364e+00       0.00    0.000000       0.013364  \n903   1.893937e+00       0.00    0.000000       0.032978  \n859   3.460886e+00       0.00    0.000000       0.036053  \n971   2.992547e+00       0.00    0.000000       0.051411  \n689   3.517472e+00       0.00    0.000000       0.057523  \n...            ...        ...         ...            ...  \n1168  9.467326e-01       1.26  163.586119  415476.236011  \n1134  5.395908e-03       0.00  169.579507     304.650980  \n711   4.401473e-15       0.00  191.085051     863.899867  \n712   1.501008e-14       0.00  193.696548     702.175809  \n874   1.202682e+00       0.53  199.101935    2118.981471  \n\n[1206 rows x 10 columns]",
      "text/html": "<div>\n<style scoped>\n    .dataframe tbody tr th:only-of-type {\n        vertical-align: middle;\n    }\n\n    .dataframe tbody tr th {\n        vertical-align: top;\n    }\n\n    .dataframe thead th {\n        text-align: right;\n    }\n</style>\n<table border=\"1\" class=\"dataframe\">\n  <thead>\n    <tr style=\"text-align: right;\">\n      <th></th>\n      <th>name</th>\n      <th>error</th>\n      <th>hf</th>\n      <th>refHf</th>\n      <th>ie</th>\n      <th>refIe</th>\n      <th>dipole</th>\n      <th>refDipole</th>\n      <th>geomError</th>\n      <th>bad</th>\n    </tr>\n  </thead>\n  <tbody>\n    <tr>\n      <th>893</th>\n      <td>893-H9C4N1O3</td>\n      <td>0.000179</td>\n      <td>-140.513364</td>\n      <td>-140.5</td>\n      <td>10.144521</td>\n      <td>0.00</td>\n      <td>1.755364e+00</td>\n      <td>0.00</td>\n      <td>0.000000</td>\n      <td>0.013364</td>\n    </tr>\n    <tr>\n      <th>903</th>\n      <td>903-H8C5O4</td>\n      <td>0.001088</td>\n      <td>-176.367022</td>\n      <td>-176.4</td>\n      <td>11.549435</td>\n      <td>0.00</td>\n      <td>1.893937e+00</td>\n      <td>0.00</td>\n      <td>0.000000</td>\n      <td>0.032978</td>\n    </tr>\n    <tr>\n      <th>859</th>\n      <td>859-H7C7N1O2</td>\n      <td>0.001300</td>\n      <td>-70.236053</td>\n      <td>-70.2</td>\n      <td>8.630960</td>\n      <td>0.00</td>\n      <td>3.460886e+00</td>\n      <td>0.00</td>\n      <td>0.000000</td>\n      <td>0.036053</td>\n    </tr>\n    <tr>\n      <th>971</th>\n      <td>971-H9C10N1O1</td>\n      <td>0.002643</td>\n      <td>24.551411</td>\n      <td>24.5</td>\n      <td>9.686293</td>\n      <td>0.00</td>\n      <td>2.992547e+00</td>\n      <td>0.00</td>\n      <td>0.000000</td>\n      <td>0.051411</td>\n    </tr>\n    <tr>\n      <th>689</th>\n      <td>689-H7C7N1O1</td>\n      <td>0.003309</td>\n      <td>-24.157523</td>\n      <td>-24.1</td>\n      <td>9.670795</td>\n      <td>0.00</td>\n      <td>3.517472e+00</td>\n      <td>0.00</td>\n      <td>0.000000</td>\n      <td>0.057523</td>\n    </tr>\n    <tr>\n      <th>...</th>\n      <td>...</td>\n      <td>...</td>\n      <td>...</td>\n      <td>...</td>\n      <td>...</td>\n      <td>...</td>\n      <td>...</td>\n      <td>...</td>\n      <td>...</td>\n      <td>...</td>\n    </tr>\n    <tr>\n      <th>1168</th>\n      <td>1168-C2N1F3</td>\n      <td>13419.464877</td>\n      <td>-118.432299</td>\n      <td>-118.4</td>\n      <td>15.010812</td>\n      <td>0.00</td>\n      <td>9.467326e-01</td>\n      <td>1.26</td>\n      <td>163.586119</td>\n      <td>415476.236011</td>\n    </tr>\n    <tr>\n      <th>1134</th>\n      <td>1134-O2F1</td>\n      <td>17787.640020</td>\n      <td>-55.386945</td>\n      <td>3.0</td>\n      <td>12.024399</td>\n      <td>0.00</td>\n      <td>5.395908e-03</td>\n      <td>0.00</td>\n      <td>169.579507</td>\n      <td>304.650980</td>\n    </tr>\n    <tr>\n      <th>711</th>\n      <td>711-O2</td>\n      <td>18726.634530</td>\n      <td>0.323142</td>\n      <td>22.0</td>\n      <td>10.798429</td>\n      <td>0.00</td>\n      <td>4.401473e-15</td>\n      <td>0.00</td>\n      <td>191.085051</td>\n      <td>863.899867</td>\n    </tr>\n    <tr>\n      <th>712</th>\n      <td>712-O2</td>\n      <td>19533.008004</td>\n      <td>-27.817831</td>\n      <td>0.0</td>\n      <td>12.011798</td>\n      <td>0.00</td>\n      <td>1.501008e-14</td>\n      <td>0.00</td>\n      <td>193.696548</td>\n      <td>702.175809</td>\n    </tr>\n    <tr>\n      <th>874</th>\n      <td>874-O3</td>\n      <td>20092.960484</td>\n      <td>24.617633</td>\n      <td>34.1</td>\n      <td>12.637991</td>\n      <td>12.75</td>\n      <td>1.202682e+00</td>\n      <td>0.53</td>\n      <td>199.101935</td>\n      <td>2118.981471</td>\n    </tr>\n  </tbody>\n</table>\n<p>1206 rows × 10 columns</p>\n</div>"
     },
     "execution_count": 11,
     "metadata": {},
     "output_type": "execute_result"
    }
   ],
   "source": [
    "import matplotlib.pyplot as plt\n",
    "import seaborn as sns\n",
    "dfsorted = df.sort_values(by='error')\n",
    "dfsorted[\"bad\"] = dfsorted.error / (dfsorted.hf - dfsorted.refHf).abs()\n",
    "dfsorted"
   ],
   "metadata": {
    "collapsed": false,
    "pycharm": {
     "name": "#%%\n"
    }
   }
  },
  {
   "cell_type": "code",
   "execution_count": 57,
   "outputs": [
    {
     "data": {
      "text/plain": "(array([1.204e+03, 1.000e+00, 0.000e+00, 0.000e+00, 0.000e+00, 0.000e+00,\n        0.000e+00, 0.000e+00, 0.000e+00, 1.000e+00]),\n array([9.66338121e-13, 1.58703506e+05, 3.17407013e+05, 4.76110519e+05,\n        6.34814026e+05, 7.93517532e+05, 9.52221039e+05, 1.11092454e+06,\n        1.26962805e+06, 1.42833156e+06, 1.58703506e+06]),\n <BarContainer object of 10 artists>)"
     },
     "execution_count": 57,
     "metadata": {},
     "output_type": "execute_result"
    },
    {
     "data": {
      "text/plain": "<Figure size 1008x720 with 1 Axes>",
      "image/png": "[encoded data removed]"
     },
     "metadata": {
      "needs_background": "light"
     },
     "output_type": "display_data"
    }
   ],
   "source": [
    "plt.figure(figsize=(14,10))\n",
    "plt.hist(dfsorted.error / (dfsorted.hf - dfsorted.refHf).abs())"
   ],
   "metadata": {
    "collapsed": false,
    "pycharm": {
     "name": "#%%\n"
    }
   }
  },
  {
   "cell_type": "code",
   "execution_count": 12,
   "outputs": [
    {
     "name": "stderr",
     "output_type": "stream",
     "text": [
      "c:\\users\\billi\\ideaprojects\\mndoparam\\venv\\lib\\site-packages\\seaborn\\distributions.py:2619: FutureWarning: `distplot` is a deprecated function and will be removed in a future version. Please adapt your code to use either `displot` (a figure-level function with similar flexibility) or `histplot` (an axes-level function for histograms).\n",
      "  warnings.warn(msg, FutureWarning)\n"
     ]
    },
    {
     "data": {
      "text/plain": "<AxesSubplot:xlabel='error', ylabel='Density'>"
     },
     "execution_count": 12,
     "metadata": {},
     "output_type": "execute_result"
    },
    {
     "data": {
      "text/plain": "<Figure size 432x288 with 1 Axes>",
      "image/png": "[encoded data removed]"
     },
     "metadata": {
      "needs_background": "light"
     },
     "output_type": "display_data"
    }
   ],
   "source": [
    "sns.distplot(dfsorted.error)"
   ],
   "metadata": {
    "collapsed": false,
    "pycharm": {
     "name": "#%%\n"
    }
   }
  },
  {
   "cell_type": "markdown",
   "source": [],
   "metadata": {
    "collapsed": false
   }
  },
  {
   "cell_type": "code",
   "execution_count": 13,
   "outputs": [
    {
     "data": {
      "text/plain": "count     1206.000000\nmean       556.940099\nstd       1584.418860\nmin          0.000179\n25%         19.170115\n50%        116.048943\n75%        482.168120\nmax      20092.960484\nName: error, dtype: float64"
     },
     "execution_count": 13,
     "metadata": {},
     "output_type": "execute_result"
    }
   ],
   "source": [
    "dfsorted.error.describe()"
   ],
   "metadata": {
    "collapsed": false,
    "pycharm": {
     "name": "#%%\n"
    }
   }
  },
  {
   "cell_type": "code",
   "execution_count": 21,
   "outputs": [
    {
     "name": "stderr",
     "output_type": "stream",
     "text": [
      "c:\\users\\billi\\ideaprojects\\mndoparam\\venv\\lib\\site-packages\\seaborn\\distributions.py:2619: FutureWarning: `distplot` is a deprecated function and will be removed in a future version. Please adapt your code to use either `displot` (a figure-level function with similar flexibility) or `histplot` (an axes-level function for histograms).\n",
      "  warnings.warn(msg, FutureWarning)\n"
     ]
    },
    {
     "data": {
      "text/plain": "<AxesSubplot:xlabel='error', ylabel='Density'>"
     },
     "execution_count": 21,
     "metadata": {},
     "output_type": "execute_result"
    },
    {
     "data": {
      "text/plain": "<Figure size 432x288 with 1 Axes>",
      "image/png": "[encoded data removed]"
     },
     "metadata": {
      "needs_background": "light"
     },
     "output_type": "display_data"
    }
   ],
   "source": [
    "sns.distplot(dfsorted.error[0:-100])"
   ],
   "metadata": {
    "collapsed": false,
    "pycharm": {
     "name": "#%%\n"
    }
   }
  },
  {
   "cell_type": "code",
   "execution_count": null,
   "outputs": [],
   "source": [],
   "metadata": {
    "collapsed": false,
    "pycharm": {
     "name": "#%%\n"
    }
   }
  }
 ],
 "metadata": {
  "kernelspec": {
   "display_name": "Python 3",
   "language": "python",
   "name": "python3"
  },
  "language_info": {
   "codemirror_mode": {
    "name": "ipython",
    "version": 2
   },
   "file_extension": ".py",
   "mimetype": "text/x-python",
   "name": "python",
   "nbconvert_exporter": "python",
   "pygments_lexer": "ipython2",
   "version": "2.7.6"
  }
 },
 "nbformat": 4,
 "nbformat_minor": 0
}